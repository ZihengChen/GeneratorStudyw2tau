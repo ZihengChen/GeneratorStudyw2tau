{
 "cells": [
  {
   "cell_type": "code",
   "execution_count": 1,
   "metadata": {},
   "outputs": [],
   "source": [
    "from pylab import *\n",
    "import pandas as pd\n",
    "\n",
    "\n",
    "#%qtconsole --style monokai\n",
    "%matplotlib inline\n",
    "plt.style.use('classic')\n",
    "plt.rc(\"figure\",facecolor=\"w\",figsize=(6,4))\n",
    "plt.rc(\"font\",size=10)\n",
    "plt.rc(\"savefig\",dpi=300)"
   ]
  },
  {
   "cell_type": "markdown",
   "metadata": {},
   "source": [
    "# 0. Load MC Events"
   ]
  },
  {
   "cell_type": "code",
   "execution_count": 27,
   "metadata": {
    "collapsed": true
   },
   "outputs": [],
   "source": [
    "df0  = pd.read_csv(\"data/25_3/ttbar_mumu.csv\")\n",
    "df1  = pd.read_csv(\"data/25_3/ttbar_mutau_mumu.csv\")\n",
    "df2  = pd.read_csv(\"data/25_3/ttbar_tautau_mumu.csv\")\n",
    "\n",
    "\n",
    "\n",
    "removecollist = ['lepton1_charge','lepton1_mother','lepton2_charge','lepton2_mother',\n",
    "                 'lepton1_phi','lepton2_phi','dilepton_phi',\n",
    "                 'jet1_phi',\"jet2_phi\",'dijet_phi','lb1_phi','lb2_phi','met','mpt','metphi'\n",
    "                ]\n",
    "df0.drop(removecollist, axis=1, inplace=True)\n",
    "df1.drop(removecollist, axis=1, inplace=True)\n",
    "df2.drop(removecollist, axis=1, inplace=True)\n",
    "df0 = df0.reindex()\n",
    "df1 = df1.reindex()\n",
    "df2 = df2.reindex()\n",
    "\n",
    "\n",
    "#df1 = df1.sample(frac=0.1739*2)\n",
    "#df2 = df2.sample(frac=0.1739**2)\n",
    "\n",
    "df0[\"label\"]=0*np.ones(len(df0),int)\n",
    "df1[\"label\"]=1*np.ones(len(df1),int)\n",
    "df2[\"label\"]=1*np.ones(len(df2),int)\n",
    "\n",
    "df_train = pd.concat([df0,df1,df2],ignore_index=True)"
   ]
  },
  {
   "cell_type": "markdown",
   "metadata": {},
   "source": [
    "# 1. Train"
   ]
  },
  {
   "cell_type": "code",
   "execution_count": 4,
   "metadata": {},
   "outputs": [],
   "source": [
    "from utility_DNN import *\n",
    "from IPython.display import clear_output\n",
    "net = Net(40,128,128,2).cuda()\n",
    "#net = torch.load(\"checkpointDNN_temp.pt\")"
   ]
  },
  {
   "cell_type": "code",
   "execution_count": 29,
   "metadata": {},
   "outputs": [],
   "source": [
    "BATCHSIZE   = 500\n",
    "trainset    = MyDataset(df_train.as_matrix())\n",
    "trainloader = DataLoader(trainset, batch_size=BATCHSIZE,shuffle=True, num_workers=4)\n",
    "\n",
    "criterion   = nn.CrossEntropyLoss()\n",
    "optimizer   = optim.SGD(net.parameters(), lr=0.000001, momentum=0.9)\n",
    "net = net.cuda()"
   ]
  },
  {
   "cell_type": "code",
   "execution_count": null,
   "metadata": {},
   "outputs": [
    {
     "name": "stdout",
     "output_type": "stream",
     "text": [
      "[16] loss: 107.89168\n"
     ]
    }
   ],
   "source": [
    "net = net.cuda()\n",
    "for epoch in range(20):\n",
    "    running_loss = 0.0\n",
    "    for i, onebatch in enumerate(trainloader,0):\n",
    "        # get the inputs\n",
    "        inputs = Variable(onebatch[\"feature\"]).cuda()\n",
    "        labels = Variable(onebatch[\"label\"]).cuda()\n",
    "        # zero the parameter gradients\n",
    "        optimizer.zero_grad()\n",
    "        # forward + backward + optimize\n",
    "        outputs = net(inputs)\n",
    "        loss = criterion(outputs, labels)\n",
    "        loss.backward()\n",
    "        optimizer.step()\n",
    "        # print statistics\n",
    "        running_loss += loss.data[0]\n",
    "        \n",
    "    clear_output(wait=True)\n",
    "    print('[%d] loss: %.5f' %(epoch + 1, running_loss))\n",
    "print('Finished Training')"
   ]
  },
  {
   "cell_type": "code",
   "execution_count": 24,
   "metadata": {},
   "outputs": [
    {
     "name": "stdout",
     "output_type": "stream",
     "text": [
      "Accuracy of Notau        : 76.1%\n",
      "Accuracy of Yestau       : 74.9%\n"
     ]
    }
   ],
   "source": [
    "classes = [\"Notau\",\"Yestau\"]\n",
    "class_correct = list(0. for i in range(2))\n",
    "class_total   = list(0. for i in range(2))\n",
    "net           = net.cpu()\n",
    "for dataiter in trainloader:\n",
    "    #dataiter = iter(trainloader).next()\n",
    "    thisbatch_inputs   = dataiter[\"feature\"]\n",
    "    thisbatch_labels   = dataiter[\"label\"]\n",
    "    thisbatch_outputs  = net(Variable(thisbatch_inputs))\n",
    "    thisbatch_predicts = torch.max(thisbatch_outputs.data, 1)[1] # return likelihood, predict\n",
    "    c = (thisbatch_predicts == thisbatch_labels).squeeze()\n",
    "    for i in range(BATCHSIZE):\n",
    "        if len(c) == BATCHSIZE:\n",
    "            class_correct[thisbatch_labels[i]] += c[i]\n",
    "            class_total[thisbatch_labels[i]]   += 1\n",
    "            \n",
    "for i in range(2):\n",
    "    print (\"Accuracy of {:12s} : {:3.1f}%\".format(classes[i],100*class_correct[i]/class_total[i]))"
   ]
  },
  {
   "cell_type": "code",
   "execution_count": 26,
   "metadata": {
    "collapsed": true
   },
   "outputs": [],
   "source": [
    "torch.save(net.cpu(),\"checkpointDNN.pt\")"
   ]
  },
  {
   "cell_type": "code",
   "execution_count": null,
   "metadata": {
    "collapsed": true
   },
   "outputs": [],
   "source": []
  },
  {
   "cell_type": "code",
   "execution_count": null,
   "metadata": {
    "collapsed": true
   },
   "outputs": [],
   "source": []
  },
  {
   "cell_type": "code",
   "execution_count": null,
   "metadata": {
    "collapsed": true
   },
   "outputs": [],
   "source": [
    "hist(df2.met,histtype=\"step\",color=\"b\",normed=True,bins=np.arange(0,2500,50))\n",
    "hist(df1.met,histtype=\"step\",color=\"g\",normed=True,bins=np.arange(0,2500,50))\n",
    "hist(df0.met,histtype=\"step\",color=\"r\",normed=True,bins=np.arange(0,2500,50))"
   ]
  }
 ],
 "metadata": {
  "kernelspec": {
   "display_name": "Python 3",
   "language": "python",
   "name": "python3"
  },
  "language_info": {
   "codemirror_mode": {
    "name": "ipython",
    "version": 3
   },
   "file_extension": ".py",
   "mimetype": "text/x-python",
   "name": "python",
   "nbconvert_exporter": "python",
   "pygments_lexer": "ipython3",
   "version": "3.6.1"
  }
 },
 "nbformat": 4,
 "nbformat_minor": 2
}
